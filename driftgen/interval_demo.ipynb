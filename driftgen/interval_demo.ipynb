{
 "cells": [
  {
   "cell_type": "code",
   "execution_count": null,
   "metadata": {},
   "outputs": [],
   "source": [
    "import numpy as np\n",
    "import pandas as pd\n",
    "import matplotlib.pyplot as plt\n",
    "from scipy import signal\n",
    "from anomaly_intervals import *\n",
    "from anomaly import *"
   ]
  },
  {
   "cell_type": "code",
   "execution_count": null,
   "metadata": {},
   "outputs": [],
   "source": [
    "from drift import Drift\n",
    "from intervals import createDriftIntervals\n",
    "ECG = pd.read_csv('/Users/akanksha/Desktop/DriftGen/driftgen/MBA_ECG805_data.out')\n",
    "ECG1 = pd.read_csv('/Users/akanksha/Desktop/DriftGen/driftgen/MBA_ECG806_data.out')\n",
    "max_length = 20000"
   ]
  },
  {
   "cell_type": "code",
   "execution_count": null,
   "metadata": {},
   "outputs": [],
   "source": [
    "# plotting dataset \n",
    "drift_addition_1 = createDriftIntervals(ECG.iloc[0:max_length, :])\n",
    "\n",
    "plt.figure(figsize=(100,30))\n",
    "plt.plot(drift_addition_1.dataset.iloc[:,0])"
   ]
  },
  {
   "cell_type": "code",
   "execution_count": null,
   "metadata": {},
   "outputs": [],
   "source": [
    "# creating 3 drift modules, one for each interval\n",
    "meandrift1 = Drift('mean', 10, transition_period=0.2) # drift module 1\n",
    "meandrift2 = Drift('mean', -13, transition_period=0) # drift module 3\n",
    "meandrift3 = Drift('mean', 5, transition_period=0.5) # drift module 3\n",
    "\n",
    "drift_addition_1.create_intervals(5,2000)\n",
    "# add drift modules here corresponding to intervals\n",
    "drift_addition_1.add_drifts(meandrift1, meandrift3, meandrift2, meandrift1, meandrift2) \n",
    "\n",
    "# plotting the dataset\n",
    "drift_addition_1.plot_dataset()"
   ]
  },
  {
   "cell_type": "code",
   "execution_count": null,
   "metadata": {},
   "outputs": [],
   "source": [
    "# plotting second dataset\n",
    "\n",
    "anomaly_addition_1 = createAnomalyIntervals(ECG1.iloc[0:max_length, :])\n",
    "\n",
    "plt.figure(figsize=(100,30))\n",
    "plt.plot(anomaly_addition_1.dataset.iloc[:,0])"
   ]
  },
  {
   "cell_type": "code",
   "execution_count": null,
   "metadata": {},
   "outputs": [],
   "source": [
    "# creating point anomaly module with uniform distribution of values\n",
    "pDistAnom1 = DistPointAnomaly(0.02, 'uniform', num_values=100, lowerbound=-0.02, upperbound=0.02) \n",
    "# change the values to be unique \n",
    "# make option to change the existing dataset rather than replace the values (use the existing dataset)\n",
    "# synthetically inject correlates errors (failure occured)\n",
    "# creating point anomaly module with gaussian distribution of values\n",
    "pDistAnom2 = DistPointAnomaly(0.003, distribution='gaussian', mu=0, std=0.10, num_values=20)\n",
    "# creating point anomaly module with skew distribution of values\n",
    "pDistAnom3 = DistPointAnomaly(0.01, 'skew', upperbound=0.09, skew=0.02)"
   ]
  },
  {
   "cell_type": "code",
   "execution_count": null,
   "metadata": {},
   "outputs": [],
   "source": [
    "anomaly_addition_2 = createAnomalyIntervals(drift_addition_1.dataset)\n",
    "\n",
    "plt.figure(figsize=(100,30))\n",
    "plt.plot(anomaly_addition_2.dataset.iloc[:,0])\n",
    "\n"
   ]
  },
  {
   "cell_type": "code",
   "execution_count": null,
   "metadata": {},
   "outputs": [],
   "source": [
    "anomaly_addition_2.create_intervals(3,5000)\n",
    "# add drift modules here corresponding to intervals\n",
    "anomaly_addition_2.add_anomalies(pDistAnom1, pDistAnom2, pDistAnom3)\n",
    "\n",
    "anomaly_addition_2.plot_dataset()"
   ]
  },
  {
   "cell_type": "code",
   "execution_count": null,
   "metadata": {},
   "outputs": [],
   "source": [
    "ECG1 = pd.read_csv('/Users/akanksha/Desktop/DriftGen/driftgen/MBA_ECG806_data.out')\n",
    "anomaly_addition_3 = createAnomalyIntervals(ECG1.iloc[0:max_length, :])\n",
    "\n",
    "# creating point anomaly module with uniform distribution of values\n",
    "pCollAnom1 = CollectiveAnomaly(30, 0.1, upperbound=0.4, lowerbound=0, num_values=50)\n",
    "# creating point anomaly module with gaussian distribution of values\n",
    "pCollAnom2 = CollectiveAnomaly(10, 0.02, upperbound=0.4, lowerbound=0.1, num_values=200)\n",
    "# creating point anomaly module with skew distribution of values\n",
    "pCollAnom3 = CollectiveAnomaly(100, 0.05, num_values=50, distribution='gaussian', mu=0.1, std=0.2)\n",
    "#correlation step (going down at an incremental factor) - linear if percentage of added noise exceeds bound, keep at bound\n",
    "# vary the length of anomalies (bound would be range of additive)\n",
    "anomaly_addition_3.create_intervals(3,5000)\n",
    "# add drift modules here corresponding to intervals\n",
    "anomaly_addition_3.add_anomalies(pCollAnom1, pCollAnom2, pCollAnom3)\n",
    "\n",
    "anomaly_addition_3.plot_dataset()"
   ]
  },
  {
   "cell_type": "code",
   "execution_count": null,
   "metadata": {},
   "outputs": [],
   "source": [
    "ECG1 = pd.read_csv('/Users/akanksha/Desktop/DriftGen/driftgen/MBA_ECG806_data.out')\n",
    "anomaly_addition_4 = createAnomalyIntervals(ECG1.iloc[0:max_length, :])\n",
    "anomaly_addition_4.create_intervals(3,5000)\n",
    "# creating sequential anomalies\n",
    "pSeqAnom1 = SequentialAnomaly(0.01, 0, length=15)\n",
    "\n",
    "pSeqAnom2 = SequentialAnomaly(0.05, 0, length=30)\n",
    "\n",
    "pSeqAnom3 = SequentialAnomaly(0.10, 0, length=50)\n",
    "\n",
    "# add drift modules here corresponding to intervals\n",
    "anomaly_addition_4.add_anomalies(pSeqAnom1, pSeqAnom2, pSeqAnom3)\n",
    "\n",
    "anomaly_addition_4.plot_dataset()"
   ]
  }
 ],
 "metadata": {
  "kernelspec": {
   "display_name": "Python 3.10.0 64-bit",
   "language": "python",
   "name": "python3"
  },
  "language_info": {
   "codemirror_mode": {
    "name": "ipython",
    "version": 3
   },
   "file_extension": ".py",
   "mimetype": "text/x-python",
   "name": "python",
   "nbconvert_exporter": "python",
   "pygments_lexer": "ipython3",
   "version": "3.10.0"
  },
  "orig_nbformat": 4,
  "vscode": {
   "interpreter": {
    "hash": "aee8b7b246df8f9039afb4144a1f6fd8d2ca17a180786b69acc140d282b71a49"
   }
  }
 },
 "nbformat": 4,
 "nbformat_minor": 2
}
