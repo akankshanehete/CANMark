{
 "cells": [
  {
   "cell_type": "code",
   "execution_count": null,
   "metadata": {},
   "outputs": [],
   "source": [
    "import numpy as np\n",
    "import pandas as pd\n",
    "import matplotlib.pyplot as plt\n",
    "from scipy import signal"
   ]
  },
  {
   "cell_type": "code",
   "execution_count": null,
   "metadata": {},
   "outputs": [],
   "source": [
    "from drift import Drift\n",
    "from intervals import createDriftIntervals\n",
    "\n",
    "ECG = pd.read_csv('/Users/akanksha/Desktop/DriftGen/driftgen/MBA_ECG805_data.out')\n",
    "ECG1 = pd.read_csv('/Users/akanksha/Desktop/DriftGen/driftgen/MBA_ECG806_data.out')\n",
    "max_length = 20000"
   ]
  },
  {
   "cell_type": "code",
   "execution_count": null,
   "metadata": {},
   "outputs": [],
   "source": [
    "# plotting dataset \n",
    "drift_addition_1 = createDriftIntervals(ECG.iloc[0:max_length, :])\n",
    "\n",
    "plt.figure(figsize=(100,30))\n",
    "plt.plot(drift_addition_1.dataset.iloc[:,0])"
   ]
  },
  {
   "cell_type": "code",
   "execution_count": null,
   "metadata": {},
   "outputs": [],
   "source": [
    "# creating 3 drift modules, one for each interval\n",
    "meandrift1 = Drift('mean', 10, transition_period=0.2) # drift module 1\n",
    "meandrift2 = Drift('mean', -13, transition_period=0) # drift module 3\n",
    "meandrift3 = Drift('mean', 5, transition_period=0.5) # drift module 3\n",
    "\n",
    "drift_addition_1.create_intervals(5,2000)\n",
    "# add drift modules here corresponding to intervals\n",
    "drift_addition_1.add_drifts(meandrift1, meandrift3, meandrift2, meandrift1, meandrift2)\n",
    "\n",
    "# plotting the dataset\n",
    "drift_addition_1.plot_dataset()"
   ]
  },
  {
   "cell_type": "code",
   "execution_count": null,
   "metadata": {},
   "outputs": [],
   "source": [
    "# plotting second dataset\n",
    "from anomaly_intervals import *\n",
    "from anomaly import *\n",
    "anomaly_addition_1 = createAnomalyIntervals(ECG1.iloc[0:max_length, :])\n",
    "\n",
    "plt.figure(figsize=(100,30))\n",
    "plt.plot(drift_addition_1.dataset.iloc[:,0])"
   ]
  },
  {
   "cell_type": "code",
   "execution_count": null,
   "metadata": {},
   "outputs": [],
   "source": [
    "# creating two anomaly modules, can be reused in intervals\n",
    "pointanomaly1 = PointAnomaly(0.02, [0.1, 0.2, -0.5, -0.1])\n",
    "pointanomaly2 = PointAnomaly(0.1, [0.5, -0.5])\n",
    "\n",
    "\n",
    "anomaly_addition_1.create_intervals(3,5000)\n",
    "# add drift modules here corresponding to intervals\n",
    "anomaly_addition_1.add_drifts(pointanomaly1, pointanomaly1, pointanomaly2)\n",
    "\n",
    "anomaly_addition_1.plot_dataset()"
   ]
  }
 ],
 "metadata": {
  "kernelspec": {
   "display_name": "Python 3.10.0 64-bit",
   "language": "python",
   "name": "python3"
  },
  "language_info": {
   "codemirror_mode": {
    "name": "ipython",
    "version": 3
   },
   "file_extension": ".py",
   "mimetype": "text/x-python",
   "name": "python",
   "nbconvert_exporter": "python",
   "pygments_lexer": "ipython3",
   "version": "3.10.0"
  },
  "orig_nbformat": 4,
  "vscode": {
   "interpreter": {
    "hash": "aee8b7b246df8f9039afb4144a1f6fd8d2ca17a180786b69acc140d282b71a49"
   }
  }
 },
 "nbformat": 4,
 "nbformat_minor": 2
}
